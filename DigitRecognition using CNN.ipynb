{
 "cells": [
  {
   "cell_type": "code",
   "execution_count": 3,
   "metadata": {
    "_cell_guid": "b1076dfc-b9ad-4769-8c92-a6c4dae69d19",
    "_uuid": "8f2839f25d086af736a60e9eeb907d3b93b6e0e5"
   },
   "outputs": [],
   "source": [
    "# This Python 3 environment comes with many helpful analytics libraries installed\n",
    "# It is defined by the kaggle/python docker image: https://github.com/kaggle/docker-python\n",
    "# For example, here's several helpful packages to load in \n",
    "\n",
    "import numpy as np # linear algebra\n",
    "import pandas as pd # data processing, CSV file I/O (e.g. pd.read_csv)\n",
    "from PIL import Image\n",
    "from sklearn import preprocessing\n",
    "\n",
    "# Input data files are available in the \"../input/\" directory.\n",
    "# For example, running this (by clicking run or pressing Shift+Enter) will list the files in the input directory\n",
    "import os\n",
    "#print(os.listdir(\"../input\"))\n",
    "\n",
    "# Any results you write to the current directory are saved as output."
   ]
  },
  {
   "cell_type": "code",
   "execution_count": 8,
   "metadata": {},
   "outputs": [],
   "source": [
    "import tensorflow as tf"
   ]
  },
  {
   "cell_type": "code",
   "execution_count": 13,
   "metadata": {},
   "outputs": [],
   "source": [
    "import keras"
   ]
  },
  {
   "cell_type": "code",
   "execution_count": 14,
   "metadata": {},
   "outputs": [],
   "source": [
    "from keras.utils.np_utils import to_categorical"
   ]
  },
  {
   "cell_type": "code",
   "execution_count": 15,
   "metadata": {},
   "outputs": [],
   "source": [
    "class myCallback(keras.callbacks.Callback):\n",
    "    def on_epoch_end(self,epoch,logs={}):\n",
    "        if(logs.get('acc')>1.0):\n",
    "            print('\\n cancelling training!')\n",
    "            self.model.stop_training=True"
   ]
  },
  {
   "cell_type": "code",
   "execution_count": 16,
   "metadata": {},
   "outputs": [],
   "source": [
    "callbacks=myCallback()\n",
    "data_train=pd.read_csv(\"train.csv\")\n",
    "x_test=pd.read_csv(\"test.csv\")\n",
    "x_train=data_train.iloc[:,1:]\n",
    "\n",
    "#normalizing the training and testing data\n",
    "x_train,x_test=x_train/255,x_test/255\n",
    "y_train=data_train.iloc[:,0]\n",
    "\n",
    "XTest1=x_test.values.reshape(x_test.shape[0],28,28)\n",
    "#reshaping the training and testing data\n",
    "XTrain = x_train.values.reshape(x_train.shape[0],28,28,1)\n",
    "XTest = x_test.values.reshape(x_test.shape[0],28,28,1)\n",
    "\n",
    "#converting to float type\n",
    "#XTrain=XTrain.values.astype('float32')\n",
    "#XTest=XTest.values.astype('float32')\n",
    "YTrain=y_train.values.astype('int32')\n",
    "\n",
    "#relabeling as one hot\n",
    "#YTrain=y_train\n",
    "#YTrain = to_categorical(y_train)"
   ]
  },
  {
   "cell_type": "code",
   "execution_count": 18,
   "metadata": {},
   "outputs": [
    {
     "name": "stdout",
     "output_type": "stream",
     "text": [
      "Epoch 1/20\n",
      "42000/42000 [==============================] - 21s 500us/step - loss: 0.1641 - acc: 0.9509\n",
      "Epoch 2/20\n",
      "42000/42000 [==============================] - 21s 512us/step - loss: 0.0533 - acc: 0.9836\n",
      "Epoch 3/20\n",
      "42000/42000 [==============================] - 22s 513us/step - loss: 0.0351 - acc: 0.9887\n",
      "Epoch 4/20\n",
      "42000/42000 [==============================] - 21s 508us/step - loss: 0.0269 - acc: 0.9908\n",
      "Epoch 5/20\n",
      "42000/42000 [==============================] - 20s 487us/step - loss: 0.0194 - acc: 0.9938\n",
      "Epoch 6/20\n",
      "42000/42000 [==============================] - 24s 583us/step - loss: 0.0157 - acc: 0.9953\n",
      "Epoch 7/20\n",
      "42000/42000 [==============================] - 27s 641us/step - loss: 0.0113 - acc: 0.99600s - loss: 0.01\n",
      "Epoch 8/20\n",
      "42000/42000 [==============================] - 25s 594us/step - loss: 0.0104 - acc: 0.9970\n",
      "Epoch 9/20\n",
      "42000/42000 [==============================] - 20s 487us/step - loss: 0.0073 - acc: 0.9977\n",
      "Epoch 10/20\n",
      "42000/42000 [==============================] - 21s 498us/step - loss: 0.0088 - acc: 0.9967\n",
      "Epoch 11/20\n",
      "42000/42000 [==============================] - 21s 494us/step - loss: 0.0059 - acc: 0.9979\n",
      "Epoch 12/20\n",
      "42000/42000 [==============================] - 21s 505us/step - loss: 0.0055 - acc: 0.9983\n",
      "Epoch 13/20\n",
      "42000/42000 [==============================] - 22s 534us/step - loss: 0.0047 - acc: 0.9986\n",
      "Epoch 14/20\n",
      "42000/42000 [==============================] - 28s 659us/step - loss: 0.0066 - acc: 0.9981\n",
      "Epoch 15/20\n",
      "42000/42000 [==============================] - 27s 642us/step - loss: 0.0056 - acc: 0.9984\n",
      "Epoch 16/20\n",
      "42000/42000 [==============================] - 26s 620us/step - loss: 0.0021 - acc: 0.9993\n",
      "Epoch 17/20\n",
      "42000/42000 [==============================] - 22s 530us/step - loss: 0.0067 - acc: 0.9981\n",
      "Epoch 18/20\n",
      "42000/42000 [==============================] - 23s 545us/step - loss: 0.0039 - acc: 0.9989\n",
      "Epoch 19/20\n",
      "42000/42000 [==============================] - 21s 504us/step - loss: 0.0041 - acc: 0.9990\n",
      "Epoch 20/20\n",
      "42000/42000 [==============================] - 21s 501us/step - loss: 0.0040 - acc: 0.9987\n"
     ]
    },
    {
     "data": {
      "text/plain": [
       "<keras.callbacks.History at 0x1a1e4c4c88>"
      ]
     },
     "execution_count": 18,
     "metadata": {},
     "output_type": "execute_result"
    }
   ],
   "source": [
    "model=keras.Sequential([keras.layers.Conv2D(16,(3,3),input_shape=(28,28,1),activation='relu'),\n",
    "                        keras.layers.MaxPooling2D(2,2),\n",
    "                        keras.layers.Conv2D(64,(3,3),activation='relu'),\n",
    "                        keras.layers.MaxPooling2D(2,2),\n",
    "                        keras.layers.Flatten(),\n",
    "                        keras.layers.Dense(128,activation='relu'),\n",
    "                        keras.layers.Dense(10,activation=tf.nn.softmax)])\n",
    "#using sparse_categorical_crossentropy as the labels are integers\n",
    "#if labels are one hot encoded then use categorical_crossentropy\n",
    "model.compile(optimizer='adam',loss='sparse_categorical_crossentropy',metrics=['accuracy'])\n",
    "model.fit(XTrain,YTrain,epochs=20,callbacks=[callbacks])"
   ]
  },
  {
   "cell_type": "code",
   "execution_count": 19,
   "metadata": {},
   "outputs": [
    {
     "name": "stdout",
     "output_type": "stream",
     "text": [
      "(28000, 10)\n"
     ]
    }
   ],
   "source": [
    "predictions_p=model.predict(XTest)\n",
    "labels1=predictions_p.argmax(axis=-1)\n",
    "print(predictions_p.shape)\n",
    "#predictions_l=model.evaluate(XTrain,YTrain)"
   ]
  },
  {
   "cell_type": "code",
   "execution_count": 20,
   "metadata": {},
   "outputs": [
    {
     "name": "stdout",
     "output_type": "stream",
     "text": [
      "2\n"
     ]
    }
   ],
   "source": [
    "ind=0\n",
    "print(labels1[ind])\n",
    "#print(predictions_l)"
   ]
  },
  {
   "cell_type": "code",
   "execution_count": 22,
   "metadata": {},
   "outputs": [
    {
     "data": {
      "text/plain": [
       "<matplotlib.image.AxesImage at 0x1a270d72b0>"
      ]
     },
     "execution_count": 22,
     "metadata": {},
     "output_type": "execute_result"
    },
    {
     "data": {
      "image/png": "[encoded data removed]",
      "text/plain": [
       "<Figure size 432x288 with 1 Axes>"
      ]
     },
     "metadata": {},
     "output_type": "display_data"
    }
   ],
   "source": [
    "import matplotlib.pyplot as plt\n",
    "plt.imshow(XTest1[ind],cmap=plt.get_cmap('gray'))\n",
    "#plt.title(YTrain[0])"
   ]
  },
  {
   "cell_type": "code",
   "execution_count": null,
   "metadata": {},
   "outputs": [],
   "source": []
  }
 ],
 "metadata": {
  "kernelspec": {
   "display_name": "Python 3",
   "language": "python",
   "name": "python3"
  },
  "language_info": {
   "codemirror_mode": {
    "name": "ipython",
    "version": 3
   },
   "file_extension": ".py",
   "mimetype": "text/x-python",
   "name": "python",
   "nbconvert_exporter": "python",
   "pygments_lexer": "ipython3",
   "version": "3.6.5"
  }
 },
 "nbformat": 4,
 "nbformat_minor": 1
}
