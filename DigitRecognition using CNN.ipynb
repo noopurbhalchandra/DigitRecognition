{
 "cells": [
  {
   "cell_type": "code",
   "execution_count": 1,
   "metadata": {
    "_cell_guid": "b1076dfc-b9ad-4769-8c92-a6c4dae69d19",
    "_uuid": "8f2839f25d086af736a60e9eeb907d3b93b6e0e5"
   },
   "outputs": [],
   "source": [
    "# This Python 3 environment comes with many helpful analytics libraries installed\n",
    "# It is defined by the kaggle/python docker image: https://github.com/kaggle/docker-python\n",
    "# For example, here's several helpful packages to load in \n",
    "\n",
    "import numpy as np # linear algebra\n",
    "import pandas as pd # data processing, CSV file I/O (e.g. pd.read_csv)\n",
    "from PIL import Image\n",
    "from sklearn import preprocessing\n",
    "\n",
    "# Input data files are available in the \"../input/\" directory.\n",
    "# For example, running this (by clicking run or pressing Shift+Enter) will list the files in the input directory\n",
    "import os\n",
    "#print(os.listdir(\"../input\"))\n",
    "\n",
    "# Any results you write to the current directory are saved as output."
   ]
  },
  {
   "cell_type": "code",
   "execution_count": 2,
   "metadata": {},
   "outputs": [
    {
     "name": "stderr",
     "output_type": "stream",
     "text": [
      "/Users/noopurbhalchandra/anaconda3/lib/python3.6/site-packages/h5py/__init__.py:36: FutureWarning: Conversion of the second argument of issubdtype from `float` to `np.floating` is deprecated. In future, it will be treated as `np.float64 == np.dtype(float).type`.\n",
      "  from ._conv import register_converters as _register_converters\n"
     ]
    }
   ],
   "source": [
    "import tensorflow as tf"
   ]
  },
  {
   "cell_type": "code",
   "execution_count": 3,
   "metadata": {},
   "outputs": [],
   "source": [
    "from tensorflow import keras"
   ]
  },
  {
   "cell_type": "code",
   "execution_count": 4,
   "metadata": {},
   "outputs": [
    {
     "name": "stderr",
     "output_type": "stream",
     "text": [
      "Using TensorFlow backend.\n"
     ]
    }
   ],
   "source": [
    "from keras.utils.np_utils import to_categorical"
   ]
  },
  {
   "cell_type": "code",
   "execution_count": 5,
   "metadata": {},
   "outputs": [],
   "source": [
    "class myCallback(keras.callbacks.Callback):\n",
    "    def on_epoch_end(self,epoch,logs={}):\n",
    "        if(logs.get('acc')>1.0):\n",
    "            print('\\n cancelling training!')\n",
    "            self.model.stop_training=True"
   ]
  },
  {
   "cell_type": "code",
   "execution_count": 7,
   "metadata": {},
   "outputs": [],
   "source": [
    "callbacks=myCallback()\n",
    "data_train=pd.read_csv(\"train.csv\")\n",
    "x_test=pd.read_csv(\"test.csv\")\n",
    "x_train=data_train.iloc[:,1:]\n",
    "\n",
    "#normalizing the training and testing data\n",
    "x_train,x_test=x_train/255,x_test/255\n",
    "y_train=data_train.iloc[:,0]\n",
    "\n",
    "XTest1=x_test.values.reshape(x_test.shape[0],28,28)\n",
    "#reshaping the training and testing data\n",
    "XTrain = x_train.values.reshape(x_train.shape[0],28,28,1)\n",
    "XTest = x_test.values.reshape(x_test.shape[0],28,28,1)\n",
    "\n",
    "#converting to float type\n",
    "#XTrain=XTrain.values.astype('float32')\n",
    "#XTest=XTest.values.astype('float32')\n",
    "YTrain=y_train.values.astype('int32')\n",
    "\n",
    "#relabeling as one hot\n",
    "#YTrain=y_train\n",
    "#YTrain = to_categorical(y_train)"
   ]
  },
  {
   "cell_type": "code",
   "execution_count": 21,
   "metadata": {},
   "outputs": [
    {
     "name": "stdout",
     "output_type": "stream",
     "text": [
      "Epoch 1/20\n",
      "42000/42000 [==============================] - 25s 600us/step - loss: 0.1558 - acc: 0.9520\n",
      "Epoch 2/20\n",
      "42000/42000 [==============================] - 25s 606us/step - loss: 0.0515 - acc: 0.9842\n",
      "Epoch 3/20\n",
      "42000/42000 [==============================] - 26s 615us/step - loss: 0.0338 - acc: 0.9892\n",
      "Epoch 4/20\n",
      "42000/42000 [==============================] - 26s 609us/step - loss: 0.0249 - acc: 0.9918\n",
      "Epoch 5/20\n",
      "42000/42000 [==============================] - 26s 616us/step - loss: 0.0184 - acc: 0.9940\n",
      "Epoch 6/20\n",
      "42000/42000 [==============================] - 26s 613us/step - loss: 0.0131 - acc: 0.9959\n",
      "Epoch 7/20\n",
      "42000/42000 [==============================] - 26s 619us/step - loss: 0.0114 - acc: 0.9963\n",
      "Epoch 8/20\n",
      "42000/42000 [==============================] - 26s 616us/step - loss: 0.0105 - acc: 0.9969\n",
      "Epoch 9/20\n",
      "42000/42000 [==============================] - 26s 619us/step - loss: 0.0083 - acc: 0.9971\n",
      "Epoch 10/20\n",
      "42000/42000 [==============================] - 26s 622us/step - loss: 0.0062 - acc: 0.9981\n",
      "Epoch 11/20\n",
      "42000/42000 [==============================] - 26s 629us/step - loss: 0.0068 - acc: 0.9978\n",
      "Epoch 12/20\n",
      "42000/42000 [==============================] - 26s 614us/step - loss: 0.0049 - acc: 0.9986\n",
      "Epoch 13/20\n",
      "42000/42000 [==============================] - 26s 613us/step - loss: 0.0048 - acc: 0.9984\n",
      "Epoch 14/20\n",
      "42000/42000 [==============================] - 26s 617us/step - loss: 0.0050 - acc: 0.9984\n",
      "Epoch 15/20\n",
      "42000/42000 [==============================] - 26s 617us/step - loss: 0.0047 - acc: 0.9987\n",
      "Epoch 16/20\n",
      "42000/42000 [==============================] - 26s 623us/step - loss: 0.0064 - acc: 0.9979\n",
      "Epoch 17/20\n",
      "42000/42000 [==============================] - 26s 614us/step - loss: 0.0037 - acc: 0.9990\n",
      "Epoch 18/20\n",
      "42000/42000 [==============================] - 27s 631us/step - loss: 0.0046 - acc: 0.9986\n",
      "Epoch 19/20\n",
      "42000/42000 [==============================] - 26s 621us/step - loss: 0.0054 - acc: 0.9982\n",
      "Epoch 20/20\n",
      "42000/42000 [==============================] - 26s 619us/step - loss: 0.0026 - acc: 0.9992\n"
     ]
    },
    {
     "data": {
      "text/plain": [
       "<tensorflow.python.keras.callbacks.History at 0x1a2af23be0>"
      ]
     },
     "execution_count": 21,
     "metadata": {},
     "output_type": "execute_result"
    }
   ],
   "source": [
    "model=keras.Sequential([keras.layers.Conv2D(16,(3,3),input_shape=(28,28,1),activation='relu'),\n",
    "                        keras.layers.MaxPooling2D(2,2),\n",
    "                        keras.layers.Conv2D(64,(3,3),activation='relu'),\n",
    "                        keras.layers.MaxPooling2D(2,2),\n",
    "                        keras.layers.Flatten(),\n",
    "                        keras.layers.Dense(128,activation='relu'),\n",
    "                        keras.layers.Dense(10,activation='softmax')])\n",
    "#using sparse_categorical_crossentropy as the labels are integers\n",
    "#if labels are one hot encoded then use categorical_crossentropy\n",
    "model.compile(optimizer='adam',loss='sparse_categorical_crossentropy',metrics=['accuracy'])\n",
    "model.fit(XTrain,YTrain,epochs=20,callbacks=[callbacks])"
   ]
  },
  {
   "cell_type": "code",
   "execution_count": 22,
   "metadata": {},
   "outputs": [
    {
     "name": "stdout",
     "output_type": "stream",
     "text": [
      "(28000, 10)\n"
     ]
    }
   ],
   "source": [
    "predictions_p=model.predict(XTest)\n",
    "labels1=predictions_p.argmax(axis=-1)\n",
    "print(predictions_p.shape)\n",
    "#predictions_l=model.evaluate(XTrain,YTrain)"
   ]
  },
  {
   "cell_type": "code",
   "execution_count": 23,
   "metadata": {},
   "outputs": [
    {
     "name": "stdout",
     "output_type": "stream",
     "text": [
      "Writing complete\n"
     ]
    }
   ],
   "source": [
    "#print(labels1)\n",
    "#Create a  DataFrame\n",
    "#submission = pd.DataFrame({'ImageId':x_test['ImageId'],'Label':labels1})\n",
    "ImageID=[]\n",
    "for i in range(28000):\n",
    "    ImageID.append(i+1)\n",
    "\n",
    "#print(np.shape(ImageID))\n",
    "#submission = pd.DataFrame({'ImageId':ImageID,'Label':labels1})\n",
    "\n",
    "import csv\n",
    "#import csv.writer\n",
    "#import csv.Dictwriter\n",
    "#filename=os.path.join(os.environ[\"HOMEDRIVE\"], os.environ[\"HOMEPATH\"], \"Desktop\", \"test.csv\")\n",
    "filename = os.path.join(\"/Users/noopurbhalchandra/\",\"DigitRecognizer/DigitRecognitionPrediction.csv\")\n",
    "\n",
    "#file_to_open = os.path.join(data_folder, \"raw_data.txt\")\n",
    "#filename=/Users/noopurbhalchandra/DigitRecognizer/DigitRecognitionPrediction.csv\n",
    "with open(filename, 'w') as csvfile:\n",
    "    fieldnames = ['ImageID', 'Label']\n",
    "    writer = csv.DictWriter(csvfile, fieldnames=fieldnames)\n",
    " \n",
    "    writer.writeheader()\n",
    "    for i in range(28000):\n",
    "        writer.writerow({'ImageID': (i+1), 'Label': labels1[i]})\n",
    "    \n",
    " \n",
    "print(\"Writing complete\")\n",
    "\n",
    "\n",
    "\n",
    "\n",
    "\n",
    "#filename = 'Digit Recognition Prediction.csv'\n",
    "#submission.to_csv(filename,index=False)\n",
    "#print('Saved file: ' + filename)\n",
    "#Visualize the first 5 rows\n",
    "#submission.head()\n"
   ]
  },
  {
   "cell_type": "code",
   "execution_count": null,
   "metadata": {},
   "outputs": [],
   "source": [
    "ind=0\n",
    "print(labels1[ind])\n",
    "#print(predictions_l)"
   ]
  },
  {
   "cell_type": "code",
   "execution_count": null,
   "metadata": {},
   "outputs": [],
   "source": [
    "import matplotlib.pyplot as plt\n",
    "plt.imshow(XTest1[ind],cmap=plt.get_cmap('gray'))\n",
    "#plt.title(YTrain[0])"
   ]
  }
 ],
 "metadata": {
  "kernelspec": {
   "display_name": "Python 3",
   "language": "python",
   "name": "python3"
  },
  "language_info": {
   "codemirror_mode": {
    "name": "ipython",
    "version": 3
   },
   "file_extension": ".py",
   "mimetype": "text/x-python",
   "name": "python",
   "nbconvert_exporter": "python",
   "pygments_lexer": "ipython3",
   "version": "3.6.5"
  }
 },
 "nbformat": 4,
 "nbformat_minor": 1
}
